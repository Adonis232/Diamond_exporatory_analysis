{
 "cells": [
  {
   "cell_type": "code",
   "execution_count": null,
   "metadata": {},
   "outputs": [],
   "source": [
    "#https://www.bluenile.com/education/diamonds/color\n",
    "\n"
   ]
  },
  {
   "cell_type": "code",
   "execution_count": null,
   "metadata": {},
   "outputs": [],
   "source": [
    "sns.pairplot(diamonds_df)"
   ]
  },
  {
   "cell_type": "code",
   "execution_count": null,
   "metadata": {},
   "outputs": [],
   "source": [
    "fig = plt.figure(figsize=(30,15))\n",
    "ax = sns.violinplot(x='cut', y='price', data=diamonds_df)"
   ]
  },
  {
   "cell_type": "code",
   "execution_count": null,
   "metadata": {},
   "outputs": [],
   "source": [
    "px.scatter(data_frame=,\n",
    "        x='color',\n",
    "        y='price',\n",
    "        title='Av. price by color')"
   ]
  },
  {
   "cell_type": "code",
   "execution_count": null,
   "metadata": {},
   "outputs": [],
   "source": []
  },
  {
   "cell_type": "code",
   "execution_count": null,
   "metadata": {},
   "outputs": [],
   "source": [
    "## avg caract by volume and percentage of them in our dataframe\n",
    "\n",
    "\n",
    "fig = px.pie(diamonds_df,\n",
    "             values='carat',\n",
    "             names='clarity',\n",
    "             title='% of each diomond based on clarity and carats')\n",
    "fig.show()"
   ]
  },
  {
   "cell_type": "code",
   "execution_count": null,
   "metadata": {},
   "outputs": [],
   "source": []
  },
  {
   "cell_type": "code",
   "execution_count": null,
   "metadata": {},
   "outputs": [],
   "source": [
    "px.bar(data_frame=diamonds_df,x='clarity',y='price',barmode='group',title='Av. price by color')"
   ]
  },
  {
   "cell_type": "code",
   "execution_count": null,
   "metadata": {},
   "outputs": [],
   "source": []
  },
  {
   "cell_type": "code",
   "execution_count": null,
   "metadata": {},
   "outputs": [],
   "source": [
    "correlation heatmap \n",
    "\n",
    "\n",
    "corr = df.select_dtypes(include = ['float64', 'int64']).iloc[:, 1:].corr()\n",
    "# Generate a mask for the upper triangle\n",
    "mask = np.zeros_like(corr, dtype=np.bool)\n",
    "mask[np.triu_indices_from(mask)] = True\n",
    "f, ax = plt.subplots(figsize=(12, 12))\n",
    "sns.heatmap(corr, mask=mask, vmax=1, annot=True,\n",
    "            square=True, linewidths=.5, cbar_kws={\"shrink\": .5})"
   ]
  },
  {
   "cell_type": "code",
   "execution_count": null,
   "metadata": {},
   "outputs": [],
   "source": []
  },
  {
   "cell_type": "code",
   "execution_count": null,
   "metadata": {},
   "outputs": [],
   "source": [
    "plt.figure(figsize=(12,8))\n",
    "\n",
    "#carats:\n",
    "\n",
    "plt.subplot()\n",
    "plt.hist(diamonds_df['carat'].bins=30,color='red')\n",
    "plt.xlabel('Carat weight')\n",
    "plt.ylabel('Frequency')\n",
    "plt.title('Distribution carat-weight')\n",
    "\n",
    "#depth\n",
    "\n",
    "plt.subplot()\n",
    "plt.hist(diamonds_df['depth'].bins=30,color='blue')\n",
    "plt.xlabel('Diamond depth(%)')\n",
    "plt.ylabel('Frequency')\n",
    "plt.title('Distribution diamond depth')\n",
    "\n",
    "#price\n",
    "\n",
    "\n",
    "plt.subplot()\n",
    "plt.hist(diamonds_df['price'].bins=30,color='green')\n",
    "plt.xlabel('Price($)')\n",
    "plt.ylabel('Frequency')\n",
    "plt.title('Distribution of price in $$')"
   ]
  },
  {
   "cell_type": "code",
   "execution_count": null,
   "metadata": {},
   "outputs": [],
   "source": []
  }
 ],
 "metadata": {
  "kernelspec": {
   "display_name": "Python [conda env:ironhack_env] *",
   "language": "python",
   "name": "conda-env-ironhack_env-py"
  },
  "language_info": {
   "codemirror_mode": {
    "name": "ipython",
    "version": 3
   },
   "file_extension": ".py",
   "mimetype": "text/x-python",
   "name": "python",
   "nbconvert_exporter": "python",
   "pygments_lexer": "ipython3",
   "version": "3.7.7"
  }
 },
 "nbformat": 4,
 "nbformat_minor": 4
}
